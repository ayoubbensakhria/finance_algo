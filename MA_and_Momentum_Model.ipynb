{
  "nbformat": 4,
  "nbformat_minor": 0,
  "metadata": {
    "colab": {
      "name": "MA and Momentum Model.ipynb",
      "provenance": [],
      "collapsed_sections": [],
      "mount_file_id": "1uo1qpA0lhz3bsZhqN7NpkWCFNQPBD_BL",
      "authorship_tag": "ABX9TyOEZKVCz+f/EzcaeiE9aKpZ",
      "include_colab_link": true
    },
    "kernelspec": {
      "name": "python3",
      "display_name": "Python 3"
    },
    "language_info": {
      "name": "python"
    }
  },
  "cells": [
    {
      "cell_type": "markdown",
      "metadata": {
        "id": "view-in-github",
        "colab_type": "text"
      },
      "source": [
        "<a href=\"https://colab.research.google.com/github/ayoubbensakhria/finance_algo/blob/master/MA_and_Momentum_Model.ipynb\" target=\"_parent\"><img src=\"https://colab.research.google.com/assets/colab-badge.svg\" alt=\"Open In Colab\"/></a>"
      ]
    },
    {
      "cell_type": "markdown",
      "metadata": {
        "id": "Hj3o1CvGZfP2"
      },
      "source": [
        "# Moving Average\n",
        "\n",
        "Moving average is a series of averages points between many fixed subsets of a dataset. \n",
        "\n",
        "## Simple Moving Average\n",
        "The unweighted mean of the previous k data-points.\n",
        "\n",
        "\\begin{aligned}\n",
        "S M A_{k} &=\\frac{p_{n-k+1}+p_{n-k+2} \\cdots+p_{n}}{k} \\\\\n",
        "&=\\frac{1}{k} \\sum_{i=n-k+1}^{n} p_{i}\n",
        "\\end{aligned}\n",
        "\n",
        "## Cumulative Moving Average\n",
        "The data arrive in an ordered datum stream, and the user would like to get the average of all of the data up until the current datum\n",
        "\\begin{aligned}\n",
        "C M A_{n+1} &=\\frac{x_{n+1}+n \\cdot C M A_{n}}{n+1} \\\\\n",
        "&=\\frac{x_{n+1}+(n+1-1) \\cdot C M A_{n}}{n+1} \\\\\n",
        "&=\\frac{(n+1) \\cdot C M A_{n}+x_{n+1}-C M A_{n}}{n+1} \\\\\n",
        "&=C M A_{n}+\\frac{x_{n+1}-C M A_{n}}{n+1}\n",
        "\\end{aligned}\n",
        "\n",
        "Where :\n",
        "\\begin{equation}\n",
        "C M A_{n}=\\frac{x_{1}+\\cdots+x_{n}}{n}\n",
        "\\end{equation}\n",
        "\n",
        "## Weighted Moving Average\n",
        "\n",
        "The average that has multiplying factors to give different weights to data at different positions in the sample window. Mathematically, the weighted moving average is the convolution of the data with a fixed weighting function.\n",
        "\n",
        "\\begin{equation}\n",
        "\\mathrm{WMA}_{M}=\\frac{n p_{M}+(n-1) p_{M-1}+\\cdots+2 p_{((M-n)+2)}+p_{((M-n)+1)}}{n+(n-1)+\\cdots+2+1}\n",
        "\\end{equation}\n",
        "\n",
        "## Exponential Moving Average\n",
        "\n",
        "The first-order infinite impulse response filter that applies weighting factors which decrease exponentially. The weighting for each older datum decreases exponentially, never reaching zero. The graph at right shows an example of the weight decrease.\n",
        "\n",
        "$$\n",
        "\\mathrm{EMA}_{\\text {today }}=\\frac{p_{1}+(1-\\alpha) p_{2}+(1-\\alpha)^{2} p_{3}+(1-\\alpha)^{3} p_{4}+\\cdots}{1+(1-\\alpha)+(1-\\alpha)^{2}+(1-\\alpha)^{3}+\\cdots}\n",
        "$$\n",
        "since $1 / \\alpha=1+(1-\\alpha)+(1-\\alpha)^{2}+\\cdots$."
      ]
    },
    {
      "cell_type": "markdown",
      "metadata": {
        "id": "d0JUehs68qLE"
      },
      "source": [
        "# Momentum\n",
        "Momentum investing is a system of buying stocks or other securities that have had high returns over the past three to twelve months, and selling those that have had poor returns over the same period."
      ]
    },
    {
      "cell_type": "code",
      "metadata": {
        "colab": {
          "base_uri": "https://localhost:8080/"
        },
        "id": "gFaeziYG2QAu",
        "outputId": "316dc311-1222-4d5b-e86b-8a1325b5dedd"
      },
      "source": [
        "#backtrader\n",
        "!pip install backtrader"
      ],
      "execution_count": 4,
      "outputs": [
        {
          "output_type": "stream",
          "name": "stdout",
          "text": [
            "Collecting backtrader\n",
            "  Downloading backtrader-1.9.76.123-py2.py3-none-any.whl (410 kB)\n",
            "\u001b[?25l\r\u001b[K     |▉                               | 10 kB 17.5 MB/s eta 0:00:01\r\u001b[K     |█▋                              | 20 kB 20.5 MB/s eta 0:00:01\r\u001b[K     |██▍                             | 30 kB 24.6 MB/s eta 0:00:01\r\u001b[K     |███▏                            | 40 kB 22.3 MB/s eta 0:00:01\r\u001b[K     |████                            | 51 kB 8.7 MB/s eta 0:00:01\r\u001b[K     |████▉                           | 61 kB 10.0 MB/s eta 0:00:01\r\u001b[K     |█████▋                          | 71 kB 8.3 MB/s eta 0:00:01\r\u001b[K     |██████▍                         | 81 kB 9.1 MB/s eta 0:00:01\r\u001b[K     |███████▏                        | 92 kB 7.7 MB/s eta 0:00:01\r\u001b[K     |████████                        | 102 kB 8.0 MB/s eta 0:00:01\r\u001b[K     |████████▉                       | 112 kB 8.0 MB/s eta 0:00:01\r\u001b[K     |█████████▋                      | 122 kB 8.0 MB/s eta 0:00:01\r\u001b[K     |██████████▍                     | 133 kB 8.0 MB/s eta 0:00:01\r\u001b[K     |███████████▏                    | 143 kB 8.0 MB/s eta 0:00:01\r\u001b[K     |████████████                    | 153 kB 8.0 MB/s eta 0:00:01\r\u001b[K     |████████████▉                   | 163 kB 8.0 MB/s eta 0:00:01\r\u001b[K     |█████████████▋                  | 174 kB 8.0 MB/s eta 0:00:01\r\u001b[K     |██████████████▍                 | 184 kB 8.0 MB/s eta 0:00:01\r\u001b[K     |███████████████▏                | 194 kB 8.0 MB/s eta 0:00:01\r\u001b[K     |████████████████                | 204 kB 8.0 MB/s eta 0:00:01\r\u001b[K     |████████████████▉               | 215 kB 8.0 MB/s eta 0:00:01\r\u001b[K     |█████████████████▋              | 225 kB 8.0 MB/s eta 0:00:01\r\u001b[K     |██████████████████▍             | 235 kB 8.0 MB/s eta 0:00:01\r\u001b[K     |███████████████████▏            | 245 kB 8.0 MB/s eta 0:00:01\r\u001b[K     |████████████████████            | 256 kB 8.0 MB/s eta 0:00:01\r\u001b[K     |████████████████████▊           | 266 kB 8.0 MB/s eta 0:00:01\r\u001b[K     |█████████████████████▋          | 276 kB 8.0 MB/s eta 0:00:01\r\u001b[K     |██████████████████████▍         | 286 kB 8.0 MB/s eta 0:00:01\r\u001b[K     |███████████████████████▏        | 296 kB 8.0 MB/s eta 0:00:01\r\u001b[K     |████████████████████████        | 307 kB 8.0 MB/s eta 0:00:01\r\u001b[K     |████████████████████████▊       | 317 kB 8.0 MB/s eta 0:00:01\r\u001b[K     |█████████████████████████▋      | 327 kB 8.0 MB/s eta 0:00:01\r\u001b[K     |██████████████████████████▍     | 337 kB 8.0 MB/s eta 0:00:01\r\u001b[K     |███████████████████████████▏    | 348 kB 8.0 MB/s eta 0:00:01\r\u001b[K     |████████████████████████████    | 358 kB 8.0 MB/s eta 0:00:01\r\u001b[K     |████████████████████████████▊   | 368 kB 8.0 MB/s eta 0:00:01\r\u001b[K     |█████████████████████████████▋  | 378 kB 8.0 MB/s eta 0:00:01\r\u001b[K     |██████████████████████████████▍ | 389 kB 8.0 MB/s eta 0:00:01\r\u001b[K     |███████████████████████████████▏| 399 kB 8.0 MB/s eta 0:00:01\r\u001b[K     |████████████████████████████████| 409 kB 8.0 MB/s eta 0:00:01\r\u001b[K     |████████████████████████████████| 410 kB 8.0 MB/s \n",
            "\u001b[?25hInstalling collected packages: backtrader\n",
            "Successfully installed backtrader-1.9.76.123\n"
          ]
        }
      ]
    },
    {
      "cell_type": "code",
      "metadata": {
        "id": "qjfO4S2SYP9H"
      },
      "source": [
        "import math\n",
        "from time import time\n",
        "import pandas as pd\n",
        "import numpy as np\n",
        "import backtrader as bt\n",
        "import matplotlib.pyplot as plt\n",
        "from datetime import datetime, timedelta\n",
        "from statsmodels.graphics.tsaplots import plot_acf, plot_pacf\n",
        "from sklearn.model_selection import train_test_split\n",
        "from sklearn.metrics import mean_squared_error, mean_absolute_error\n",
        "import statsmodels.api as sm\n",
        "import warnings\n",
        "plt.style.use('fivethirtyeight')\n",
        "warnings.filterwarnings('ignore')\n",
        "%matplotlib inline"
      ],
      "execution_count": 5,
      "outputs": []
    },
    {
      "cell_type": "markdown",
      "metadata": {
        "id": "_ckdzvmFz4Bo"
      },
      "source": [
        "# Vizualise the Stock Price Over Time"
      ]
    },
    {
      "cell_type": "code",
      "metadata": {
        "colab": {
          "base_uri": "https://localhost:8080/",
          "height": 517
        },
        "id": "Cus6tk6Yz3qa",
        "outputId": "bed1533a-96a0-4b50-b936-be19210af0bd"
      },
      "source": [
        "#read data\n",
        "df = pd.read_csv('/content/drive/MyDrive/Yoctobe Fintech/Datasets/btcusd30mn.csv', parse_dates=True)\n",
        "df.head()\n",
        "# #setting index as date because some statsmodels might not work\n",
        "df.rename(columns={'datetime': 'date'}, inplace=True)\n",
        "df.index = df['date']\n",
        "df.index = pd.to_datetime(df.index)\n",
        "#plot\n",
        "df['close'].plot(figsize=(16,8))"
      ],
      "execution_count": 2,
      "outputs": [
        {
          "output_type": "execute_result",
          "data": {
            "text/plain": [
              "<matplotlib.axes._subplots.AxesSubplot at 0x7fb07c6a18d0>"
            ]
          },
          "metadata": {},
          "execution_count": 2
        },
        {
          "output_type": "display_data",
          "data": {
            "image/png": "[encoded data removed]",
            "text/plain": [
              "<Figure size 1152x576 with 1 Axes>"
            ]
          },
          "metadata": {
            "needs_background": "light"
          }
        }
      ]
    },
    {
      "cell_type": "code",
      "metadata": {
        "id": "4plIL-2w0isy"
      },
      "source": [
        "# Calculate the momentum\n",
        "def calculate_momentum(data):\n",
        "  log_data = np.log(data)\n",
        "  # get the xs\n",
        "  x_data = np.arange(len(log_date))\n",
        "  beta, _, rvalue, _, _ = linregress(x_data, x_date)\n",
        "  # annualize the slope\n",
        "  return (1+beta)**252 * (rvalue **2)"
      ],
      "execution_count": 7,
      "outputs": []
    },
    {
      "cell_type": "code",
      "metadata": {
        "id": "2bEejKW10i0f"
      },
      "source": [
        "# Momentum class\n",
        "class Momentum(bt.Indicator):\n",
        "  lines = ('momentum_trend',)\n",
        "  params = (('period', 90),)\n",
        "\n",
        "  def __init__(self):\n",
        "    self.add_min_period = self.params.period\n",
        "  \n",
        "  def next(self):\n",
        "    returns = np.log(self.data.get(size = self.params.period)\n",
        "    x_data = np.arange(len(log_date))\n",
        "    beta, _, rvalue, _, _ = linregress(x_data, x_date)\n",
        "    # annualize the slope\n",
        "    annualized = (1+beta)**252 \n",
        "    # actual value of the momentum\n",
        "    self.lines.momentum_trend[0] = annualized * rvalue**2\n",
        "\n",
        "class MomentumStrategy(bt.Strategy):\n",
        "\n",
        "  def __init__(self):\n",
        "    self.counter = 0\n",
        "    self.indicators = {}\n",
        "    self.sorted_data = []\n",
        "    self.btc = self.data[0] \n",
        "    self.sma200 = bt.indicators.MovingAverageSimple(self.btc.close, period = 200)\n"
      ],
      "execution_count": null,
      "outputs": []
    }
  ]
}