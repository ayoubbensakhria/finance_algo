{
  "nbformat": 4,
  "nbformat_minor": 0,
  "metadata": {
    "colab": {
      "name": "MA and Momentum Model.ipynb",
      "provenance": [],
      "collapsed_sections": [],
      "authorship_tag": "ABX9TyOKKpVttfaPNULkILM99Deg",
      "include_colab_link": true
    },
    "kernelspec": {
      "name": "python3",
      "display_name": "Python 3"
    },
    "language_info": {
      "name": "python"
    }
  },
  "cells": [
    {
      "cell_type": "markdown",
      "metadata": {
        "id": "view-in-github",
        "colab_type": "text"
      },
      "source": [
        "<a href=\"https://colab.research.google.com/github/ayoubbensakhria/finance_algo/blob/master/MA_and_Momentum_Model.ipynb\" target=\"_parent\"><img src=\"https://colab.research.google.com/assets/colab-badge.svg\" alt=\"Open In Colab\"/></a>"
      ]
    },
    {
      "cell_type": "markdown",
      "metadata": {
        "id": "Hj3o1CvGZfP2"
      },
      "source": [
        "# Moving Average\n",
        "\n",
        "Moving average is a series of averages points between many fixed subsets of a dataset. \n",
        "\n",
        "## Simple Moving Average\n",
        "The unweighted mean of the previous k data-points.\n",
        "\n",
        "\\begin{aligned}\n",
        "S M A_{k} &=\\frac{p_{n-k+1}+p_{n-k+2} \\cdots+p_{n}}{k} \\\\\n",
        "&=\\frac{1}{k} \\sum_{i=n-k+1}^{n} p_{i}\n",
        "\\end{aligned}\n",
        "\n",
        "## Cumulative Moving Average\n",
        "The data arrive in an ordered datum stream, and the user would like to get the average of all of the data up until the current datum\n",
        "\\begin{aligned}\n",
        "C M A_{n+1} &=\\frac{x_{n+1}+n \\cdot C M A_{n}}{n+1} \\\\\n",
        "&=\\frac{x_{n+1}+(n+1-1) \\cdot C M A_{n}}{n+1} \\\\\n",
        "&=\\frac{(n+1) \\cdot C M A_{n}+x_{n+1}-C M A_{n}}{n+1} \\\\\n",
        "&=C M A_{n}+\\frac{x_{n+1}-C M A_{n}}{n+1}\n",
        "\\end{aligned}\n",
        "\n",
        "Where :\n",
        "\\begin{equation}\n",
        "C M A_{n}=\\frac{x_{1}+\\cdots+x_{n}}{n}\n",
        "\\end{equation}\n",
        "\n",
        "## Weighted Moving Average\n",
        "\n",
        "The average that has multiplying factors to give different weights to data at different positions in the sample window. Mathematically, the weighted moving average is the convolution of the data with a fixed weighting function.\n",
        "\n",
        "\\begin{equation}\n",
        "\\mathrm{WMA}_{M}=\\frac{n p_{M}+(n-1) p_{M-1}+\\cdots+2 p_{((M-n)+2)}+p_{((M-n)+1)}}{n+(n-1)+\\cdots+2+1}\n",
        "\\end{equation}\n",
        "\n",
        "## Exponential Moving Average\n",
        "\n",
        "The first-order infinite impulse response filter that applies weighting factors which decrease exponentially. The weighting for each older datum decreases exponentially, never reaching zero. The graph at right shows an example of the weight decrease.\n",
        "\n",
        "$$\n",
        "\\mathrm{EMA}_{\\text {today }}=\\frac{p_{1}+(1-\\alpha) p_{2}+(1-\\alpha)^{2} p_{3}+(1-\\alpha)^{3} p_{4}+\\cdots}{1+(1-\\alpha)+(1-\\alpha)^{2}+(1-\\alpha)^{3}+\\cdots}\n",
        "$$\n",
        "since $1 / \\alpha=1+(1-\\alpha)+(1-\\alpha)^{2}+\\cdots$."
      ]
    },
    {
      "cell_type": "markdown",
      "metadata": {
        "id": "d0JUehs68qLE"
      },
      "source": [
        "# Momentum\n",
        "Momentum investing is a system of buying stocks or other securities that have had high returns over the past three to twelve months, and selling those that have had poor returns over the same period."
      ]
    },
    {
      "cell_type": "code",
      "metadata": {
        "id": "qjfO4S2SYP9H"
      },
      "source": [
        ""
      ],
      "execution_count": null,
      "outputs": []
    }
  ]
}